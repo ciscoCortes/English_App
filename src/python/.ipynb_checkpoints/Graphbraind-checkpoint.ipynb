{
 "cells": [
  {
   "cell_type": "code",
   "execution_count": 6,
   "id": "83287e9e",
   "metadata": {},
   "outputs": [],
   "source": [
    "import spacy\n",
    "from graphbrain.parsers import *\n",
    "parser = create_parser(lang='en')"
   ]
  },
  {
   "cell_type": "code",
   "execution_count": 48,
   "id": "e785ff52",
   "metadata": {},
   "outputs": [],
   "source": [
    "text = '''This text is a writing about words. That is interesting. Words that speak about words. Well, these words are not really speaking. People can speak. If you are a person, you can do it. Or something like that. Really, not all people are able to speak.  Some can't do that because they are too small.  They don't have a long life. So, they are not old enough to know how to say things.\n",
    "\n",
    "Other people are old but they are unable to speak.  These people are not too little, they have a life long enough to learn to say things. But they are mute. These people study another manner to tell their words. They study other manners to tell what they want to say to somebody. Really, they understand a lot about how to have conversations. When they don't know something, they can ask questions. And after they hear an answer, they can tell what they think about the answer.\n",
    "\n",
    "But this text isn't about mute people. It is a work to help you to study. That is my job. I am writing this all to show you some things about grammar, writing, sentences, and how to have better conversations in English. This is a simple text. Here you don't see so many things. You can look inside all these sentences, and you do not face big words. This is not a paper. And it is also a small work. It's not a lot of words like what you have in a whole book. \n",
    "\n",
    "Learning English is like a sport. You need to make some things a lot or you forget it all. You start doing the work, if you don't do it enough time, you better forget about learning. That's why the whole time, I take a word and I write it in a sentence the first time. Then, I tell you all again, but in another manner.  Why? Because when you do things like that, it is easy to remember what you face for the first time.  \n",
    "\n",
    "We all learn also by making mistakes. When we start to learn we need to ask for answers, we have to ask for help. But also, we must study a lot. By doing that,  we can remember what we learn. If we don't make mistakes, we can't change and do things well one day. We have accidents, we repair it all, we face the whole thing a thousand times, and we understand, we remember. We change, in a way we are better. Why? we do the job, we really learn.\n",
    "'''"
   ]
  },
  {
   "cell_type": "code",
   "execution_count": 49,
   "id": "af429b2d",
   "metadata": {},
   "outputs": [
    {
     "name": "stdout",
     "output_type": "stream",
     "text": [
      "{'inferred_edges': [],\n",
      " 'parses': ({'atom2token': {a/Md/en: a,\n",
      "                            are/Mv.|f-----/en: are,\n",
      "                            because/M/en: because,\n",
      "                            can/Mm/en: can,\n",
      "                            if/T/en: if,\n",
      "                            is/Pd.sc.|f--3s-/en: is,\n",
      "                            leatter/Cc.s/en: leatter,\n",
      "                            life/Cc.s/en: life,\n",
      "                            reading/Pd.so.|pg----/en: reading,\n",
      "                            that/Cd/en: that,\n",
      "                            the/Md/en: the,\n",
      "                            this/Cd/en: this,\n",
      "                            we/Ci/en: we,\n",
      "                            write/Pd.xsox.-i-----/en: write,\n",
      "                            you/Ci/en: you},\n",
      "             'atom2word': {a/Md/en: ('a', 9),\n",
      "                           are/Mv.|f-----/en: ('are', 2),\n",
      "                           because/M/en: ('because', 11),\n",
      "                           can/Mm/en: ('can', 7),\n",
      "                           if/T/en: ('if', 0),\n",
      "                           is/Pd.sc.|f--3s-/en: ('is', 13),\n",
      "                           leatter/Cc.s/en: ('leatter', 10),\n",
      "                           life/Cc.s/en: ('life', 15),\n",
      "                           reading/Pd.so.|pg----/en: ('reading', 3),\n",
      "                           that/Cd/en: ('that', 12),\n",
      "                           the/Md/en: ('the', 14),\n",
      "                           this/Cd/en: ('this', 4),\n",
      "                           we/Ci/en: ('we', 6),\n",
      "                           write/Pd.xsox.-i-----/en: ('write', 8),\n",
      "                           you/Ci/en: ('you', 1)},\n",
      "             'extra_edges': set(),\n",
      "             'failed': False,\n",
      "             'main_edge': ((can/Mm/en write/Pd.xsox.-i-----/en) (if/T/en ((are/Mv.|f-----/en reading/Pd.so.|pg----/en) you/Ci/en this/Cd/en)) we/Ci/en (a/Md/en leatter/Cc.s/en) ((because/M/en is/Pd.sc.|f--3s-/en) that/Cd/en (the/Md/en life/Cc.s/en))),\n",
      "             'spacy_sentence': if you are reading this, we can write a leatter because that is the life.,\n",
      "             'text': 'if you are reading this, we can write a leatter because '\n",
      "                     'that is the life.'},\n",
      "            {'atom2token': {a/Md/en: a,\n",
      "                            are/Mv.|f-----/en: are,\n",
      "                            are/Pd.sc.|f-----/en: are,\n",
      "                            because/M/en: because,\n",
      "                            can/Mm/en: can,\n",
      "                            green/Ca/en: green,\n",
      "                            if/T/en: if,\n",
      "                            is/Pd.sc.|f--3s-/en: is,\n",
      "                            leatter/Cc.s/en: leatter,\n",
      "                            life/Cc.s/en: life,\n",
      "                            reading/Pd.so.|pg----/en: reading,\n",
      "                            that/Cd/en: that,\n",
      "                            the/Md/en: the,\n",
      "                            the/Md/en: the,\n",
      "                            then/M/en: Then,\n",
      "                            this/Cd/en: this,\n",
      "                            trees/Cc.p/en: trees,\n",
      "                            we/Ci/en: we,\n",
      "                            write/Pd.xsox.-i-----/en: write,\n",
      "                            you/Ci/en: you},\n",
      "             'atom2word': {are/Pd.sc.|f-----/en: ('are', 20),\n",
      "                           green/Ca/en: ('green', 21),\n",
      "                           the/Md/en: ('the', 18),\n",
      "                           then/M/en: ('Then', 17),\n",
      "                           trees/Cc.p/en: ('trees', 19)},\n",
      "             'extra_edges': set(),\n",
      "             'failed': False,\n",
      "             'main_edge': ((then/M/en are/Pd.sc.|f-----/en) (the/Md/en trees/Cc.p/en) green/Ca/en),\n",
      "             'spacy_sentence': Then the trees are green,\n",
      "             'text': 'Then the trees are green'})}\n",
      "LEN:  2\n"
     ]
    },
    {
     "data": {
      "text/html": [
       "<span style=\"color:#303030\"><span style=\"font-weight:bold\">(</span><span style=\"color:#cb4b16\"><span style=\"font-weight:bold\">(</span><span style=\"color:#dc322f\"><span style=\"color:#dc322f\">can</span><span style=\"color:#000000;font-weight:lighter\">/Mm/en</span> <span style=\"color:#cb4b16\"><span style=\"color:#cb4b16\">write</span><span style=\"color:#000000;font-weight:lighter\">/Pd.xsox.-i-----/en</span><span style=\"color:#cb4b16\"><span style=\"font-weight:bold\">)</span></span></span> <div style=\"margin-left:20px;color:#6c71c4\"><span style=\"font-weight:bold\">(</span><span style=\"color:#d33682\"><span style=\"color:#d33682\">if</span><span style=\"color:#000000;font-weight:lighter\">/T/en</span> <span style=\"color:#303030\"><span style=\"font-weight:bold\">(</span><span style=\"color:#cb4b16\"><span style=\"font-weight:bold\">(</span><span style=\"color:#dc322f\"><span style=\"color:#dc322f\">are</span><span style=\"color:#000000;font-weight:lighter\">/Mv.|f-----/en</span> <span style=\"color:#cb4b16\"><span style=\"color:#cb4b16\">reading</span><span style=\"color:#000000;font-weight:lighter\">/Pd.so.|pg----/en</span><span style=\"color:#cb4b16\"><span style=\"font-weight:bold\">)</span></span></span> <div style=\"margin-left:20px;color:#268bd2\"><span style=\"color:#268bd2\">you</span><span style=\"color:#000000;font-weight:lighter\">/Ci/en</span> <div style=\"margin-left:20px;color:#268bd2\"><span style=\"color:#268bd2\">this</span><span style=\"color:#000000;font-weight:lighter\">/Cd/en</span><span style=\"color:#303030\"><span style=\"font-weight:bold\">)</span></span><span style=\"color:#6c71c4\"><span style=\"font-weight:bold\">)</span></span></span></div> <div style=\"margin-left:20px;color:#268bd2\"><span style=\"color:#268bd2\">we</span><span style=\"color:#000000;font-weight:lighter\">/Ci/en</span> <div style=\"margin-left:20px;color:#268bd2\"><span style=\"font-weight:bold\">(</span><span style=\"color:#dc322f\"><span style=\"color:#dc322f\">a</span><span style=\"color:#000000;font-weight:lighter\">/Md/en</span> <span style=\"color:#268bd2\"><span style=\"color:#268bd2\">leatter</span><span style=\"color:#000000;font-weight:lighter\">/Cc.s/en</span><span style=\"color:#268bd2\"><span style=\"font-weight:bold\">)</span></span></div> <div style=\"margin-left:20px;color:#303030\"><span style=\"font-weight:bold\">(</span><span style=\"color:#cb4b16\"><span style=\"font-weight:bold\">(</span><span style=\"color:#dc322f\"><span style=\"color:#dc322f\">because</span><span style=\"color:#000000;font-weight:lighter\">/M/en</span> <span style=\"color:#cb4b16\"><span style=\"color:#cb4b16\">is</span><span style=\"color:#000000;font-weight:lighter\">/Pd.sc.|f--3s-/en</span><span style=\"color:#cb4b16\"><span style=\"font-weight:bold\">)</span></span></span> <div style=\"margin-left:20px;color:#268bd2\"><span style=\"color:#268bd2\">that</span><span style=\"color:#000000;font-weight:lighter\">/Cd/en</span> <div style=\"margin-left:20px;color:#268bd2\"><span style=\"font-weight:bold\">(</span><span style=\"color:#dc322f\"><span style=\"color:#dc322f\">the</span><span style=\"color:#000000;font-weight:lighter\">/Md/en</span> <span style=\"color:#268bd2\"><span style=\"color:#268bd2\">life</span><span style=\"color:#000000;font-weight:lighter\">/Cc.s/en</span><span style=\"color:#268bd2\"><span style=\"font-weight:bold\">)</span></span><span style=\"color:#303030\"><span style=\"font-weight:bold\">)</span></span><span style=\"color:#303030\"><span style=\"font-weight:bold\">)</span></span></div></div></span>"
      ],
      "text/plain": [
       "<IPython.core.display.HTML object>"
      ]
     },
     "metadata": {},
     "output_type": "display_data"
    },
    {
     "data": {
      "text/html": [
       "<span style=\"color:#303030\"><span style=\"font-weight:bold\">(</span><span style=\"color:#cb4b16\"><span style=\"font-weight:bold\">(</span><span style=\"color:#dc322f\"><span style=\"color:#dc322f\">then</span><span style=\"color:#000000;font-weight:lighter\">/M/en</span> <span style=\"color:#cb4b16\"><span style=\"color:#cb4b16\">are</span><span style=\"color:#000000;font-weight:lighter\">/Pd.sc.|f-----/en</span><span style=\"color:#cb4b16\"><span style=\"font-weight:bold\">)</span></span></span> <div style=\"margin-left:20px;color:#268bd2\"><span style=\"font-weight:bold\">(</span><span style=\"color:#dc322f\"><span style=\"color:#dc322f\">the</span><span style=\"color:#000000;font-weight:lighter\">/Md/en</span> <span style=\"color:#268bd2\"><span style=\"color:#268bd2\">trees</span><span style=\"color:#000000;font-weight:lighter\">/Cc.p/en</span><span style=\"color:#268bd2\"><span style=\"font-weight:bold\">)</span></span></div> <div style=\"margin-left:20px;color:#268bd2\"><span style=\"color:#268bd2\">green</span><span style=\"color:#000000;font-weight:lighter\">/Ca/en</span><span style=\"color:#303030\"><span style=\"font-weight:bold\">)</span></span></span>"
      ],
      "text/plain": [
       "<IPython.core.display.HTML object>"
      ]
     },
     "metadata": {},
     "output_type": "display_data"
    }
   ],
   "source": [
    "import pprint\n",
    "from graphbrain.notebook import *\n",
    "parses = parser.parse(text)\n",
    "pprint.pprint(parses)\n",
    "\n",
    "parses = parses['parses']\n",
    "print('LEN: ',len(parses))\n",
    "for parse in parses:\n",
    "\n",
    "    edge = parse['main_edge']\n",
    "   # print('EDGE: ', edge.to_str())\n",
    "    show(edge)#.to_str())"
   ]
  },
  {
   "cell_type": "code",
   "execution_count": 50,
   "id": "f30b2f23",
   "metadata": {},
   "outputs": [
    {
     "name": "stdout",
     "output_type": "stream",
     "text": [
      "2\n"
     ]
    }
   ],
   "source": [
    "print(len(parses))"
   ]
  },
  {
   "cell_type": "code",
   "execution_count": null,
   "id": "faf2b221",
   "metadata": {},
   "outputs": [],
   "source": []
  }
 ],
 "metadata": {
  "kernelspec": {
   "display_name": "Python 3",
   "language": "python",
   "name": "python3"
  },
  "language_info": {
   "codemirror_mode": {
    "name": "ipython",
    "version": 3
   },
   "file_extension": ".py",
   "mimetype": "text/x-python",
   "name": "python",
   "nbconvert_exporter": "python",
   "pygments_lexer": "ipython3",
   "version": "3.8.2"
  }
 },
 "nbformat": 4,
 "nbformat_minor": 5
}
