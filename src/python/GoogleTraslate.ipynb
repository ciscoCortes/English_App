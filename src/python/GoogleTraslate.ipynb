{
 "cells": [
  {
   "cell_type": "code",
   "execution_count": 3,
   "id": "95970415",
   "metadata": {},
   "outputs": [],
   "source": [
    "from googleTranslate import translate"
   ]
  },
  {
   "cell_type": "code",
   "execution_count": 3,
   "id": "88c69ea0",
   "metadata": {
    "scrolled": false
   },
   "outputs": [
    {
     "name": "stdout",
     "output_type": "stream",
     "text": [
      "Ingrese un texto para traducir: is it\n",
      "{\n",
      "  \"sentences\": [\n",
      "    {\n",
      "      \"trans\": \"Lo es\",\n",
      "      \"orig\": \"is it\",\n",
      "      \"backend\": 1\n",
      "    }\n",
      "  ],\n",
      "  \"src\": \"en\",\n",
      "  \"confidence\": 1.0,\n",
      "  \"spell\": {},\n",
      "  \"ld_result\": {\n",
      "    \"srclangs\": [\n",
      "      \"en\"\n",
      "    ],\n",
      "    \"srclangs_confidences\": [\n",
      "      1.0\n",
      "    ],\n",
      "    \"extended_srclangs\": [\n",
      "      \"en\"\n",
      "    ]\n",
      "  }\n",
      "}\n"
     ]
    }
   ],
   "source": [
    "import json\n",
    "\n",
    "count = 0\n",
    "while count < 1:\n",
    "    count += 1\n",
    "    text = input(\"Ingrese un texto para traducir: \")\n",
    "    respuesta = json.dumps(translate(text),ensure_ascii=False, indent = 2)\n",
    "    print(respuesta)"
   ]
  },
  {
   "cell_type": "code",
   "execution_count": 20,
   "id": "a0bb52ad",
   "metadata": {},
   "outputs": [],
   "source": [
    "import json\n",
    "\n",
    "with open(\"wordsList.json\", \"r\") as f:\n",
    "    wordsList = json.loads(f.read())\n",
    "    dicList = list(map(translate, wordsList))\n",
    "\n",
    "dictData = {}\n",
    "for x in dicList:\n",
    "    ID = x['sentences'][0]['orig']\n",
    "    dictData[ID] = x\n",
    "    \n",
    "with open(\"googleDict.json\", \"w\") as outfile:\n",
    "    json.dump(dictData, outfile, ensure_ascii = False)"
   ]
  },
  {
   "cell_type": "code",
   "execution_count": 2,
   "id": "a1941887",
   "metadata": {},
   "outputs": [
    {
     "data": {
      "text/plain": [
       "'34390'"
      ]
     },
     "execution_count": 2,
     "metadata": {},
     "output_type": "execute_result"
    }
   ],
   "source": [
    "import re\n",
    "string = 'lk343 lkj!.9[[-?0'\n",
    "re.sub('\\D','',string)"
   ]
  },
  {
   "cell_type": "code",
   "execution_count": 1,
   "id": "5aca501a",
   "metadata": {},
   "outputs": [],
   "source": [
    "\n",
    "\n",
    "txt = ''' The picture is in a book. \n",
    "I think about life in the forest. \n",
    "I show my fantastic picture to one person.\n",
    "Are you scared?\n",
    "How can I be scared?\n",
    "They tell me that it is not good to make pictures. \n",
    " After these words, I don’t want to make pictures.\n",
    "“Draw me a sheep!”\n",
    "Are you from the sky?\n",
    "Do you come from another planet?\n",
    "But where can the sheep go?'''\n",
    "txt = txt.splitlines()\n",
    "\n",
    "txt = [x.strip() for x in txt]"
   ]
  },
  {
   "cell_type": "code",
   "execution_count": 5,
   "id": "5a383a31",
   "metadata": {},
   "outputs": [
    {
     "data": {
      "text/plain": [
       "{'La imagen está en un libro.': 'The picture is in a book.',\n",
       " 'Pienso en la vida en el bosque.': 'I think about life in the forest.',\n",
       " 'Muestro mi imagen fantástica a una persona.': 'I show my fantastic picture to one person.',\n",
       " '¿Tienes miedo?': 'Are you scared?',\n",
       " '¿Cómo puedo tener miedo?': 'How can I be scared?',\n",
       " 'Me dicen que no es bueno hacer fotos.': 'They tell me that it is not good to make pictures.',\n",
       " 'Después de estas palabras, no quiero hacer fotos.': 'After these words, I don’t want to make pictures.',\n",
       " '“¡Dibújame una oveja!”': '“Draw me a sheep!”',\n",
       " '¿Eres del cielo?': 'Are you from the sky?',\n",
       " '¿Vienes de otro planeta?': 'Do you come from another planet?',\n",
       " 'Pero, ¿adónde pueden ir las ovejas?': 'But where can the sheep go?'}"
      ]
     },
     "execution_count": 5,
     "metadata": {},
     "output_type": "execute_result"
    }
   ],
   "source": [
    "\n",
    "dicList = list(map(translate, txt))\n",
    "\n",
    "dictData = {}\n",
    "for x in dicList:\n",
    "    ID =  x['sentences'][0]['trans']\n",
    "    dictData[ID] = x['sentences'][0]['orig']\n",
    "   \n",
    "    \n",
    "dictData"
   ]
  },
  {
   "cell_type": "code",
   "execution_count": 17,
   "id": "7ea8ce57",
   "metadata": {},
   "outputs": [],
   "source": [
    "import json\n",
    "with open('chap5_dict.jsom', 'w') as f:\n",
    "    json.dump(dictData, f, ensure_ascii = False)"
   ]
  },
  {
   "cell_type": "code",
   "execution_count": 9,
   "id": "95d10988",
   "metadata": {},
   "outputs": [
    {
     "data": {
      "text/plain": [
       "' Muestro mi imagen fantástica a una persona.: I show my fantastic picture to one person.,\\n ¿Tienes miedo?: Are you scared?,\\n ¿Cómo puedo tener miedo?: How can I be scared?,\\n Me dicen que no es bueno hacer fotos.: They tell me that it is not good to make pictures.,\\n Después de estas palabras, no quiero hacer fotos.: After these words, I don’t want to make pictures.,\\n “¡Dibújame una oveja!”: “Draw me a sheep!”,\\n ¿Eres del cielo?: Are you from the sky?,\\n ¿Vienes de otro planeta?: Do you come from another planet?,\\n Pero, ¿adónde pueden ir las ovejas?: But where can the sheep go?}\\n'"
      ]
     },
     "execution_count": 9,
     "metadata": {},
     "output_type": "execute_result"
    }
   ],
   "source": [
    "t = ''' Muestro mi imagen fantástica a una persona.': 'I show my fantastic picture to one person.',\n",
    " '¿Tienes miedo?': 'Are you scared?',\n",
    " '¿Cómo puedo tener miedo?': 'How can I be scared?',\n",
    " 'Me dicen que no es bueno hacer fotos.': 'They tell me that it is not good to make pictures.',\n",
    " 'Después de estas palabras, no quiero hacer fotos.': 'After these words, I don’t want to make pictures.',\n",
    " '“¡Dibújame una oveja!”': '“Draw me a sheep!”',\n",
    " '¿Eres del cielo?': 'Are you from the sky?',\n",
    " '¿Vienes de otro planeta?': 'Do you come from another planet?',\n",
    " 'Pero, ¿adónde pueden ir las ovejas?': 'But where can the sheep go?'}\n",
    "'''\n",
    "\n",
    "t = t.replace(\"'\",'')\n",
    "t"
   ]
  },
  {
   "cell_type": "code",
   "execution_count": null,
   "id": "e05fd256",
   "metadata": {},
   "outputs": [],
   "source": []
  }
 ],
 "metadata": {
  "interpreter": {
   "hash": "46288a96d9b0371300585bfe55be2ba8c17bcbde38d0bc0b0832f4399a2cf23e"
  },
  "kernelspec": {
   "display_name": "Python 3 (ipykernel)",
   "language": "python",
   "name": "python3"
  },
  "language_info": {
   "codemirror_mode": {
    "name": "ipython",
    "version": 3
   },
   "file_extension": ".py",
   "mimetype": "text/x-python",
   "name": "python",
   "nbconvert_exporter": "python",
   "pygments_lexer": "ipython3",
   "version": "3.8.2"
  }
 },
 "nbformat": 4,
 "nbformat_minor": 5
}
