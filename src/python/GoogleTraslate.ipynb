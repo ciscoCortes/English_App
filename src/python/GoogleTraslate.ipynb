{
 "cells": [
  {
   "cell_type": "code",
   "execution_count": 1,
   "id": "95970415",
   "metadata": {},
   "outputs": [],
   "source": [
    "from googleTranslate import translate"
   ]
  },
  {
   "cell_type": "code",
   "execution_count": 3,
   "id": "88c69ea0",
   "metadata": {
    "scrolled": false
   },
   "outputs": [
    {
     "name": "stdout",
     "output_type": "stream",
     "text": [
      "Ingrese un texto para traducir: is it\n",
      "{\n",
      "  \"sentences\": [\n",
      "    {\n",
      "      \"trans\": \"Lo es\",\n",
      "      \"orig\": \"is it\",\n",
      "      \"backend\": 1\n",
      "    }\n",
      "  ],\n",
      "  \"src\": \"en\",\n",
      "  \"confidence\": 1.0,\n",
      "  \"spell\": {},\n",
      "  \"ld_result\": {\n",
      "    \"srclangs\": [\n",
      "      \"en\"\n",
      "    ],\n",
      "    \"srclangs_confidences\": [\n",
      "      1.0\n",
      "    ],\n",
      "    \"extended_srclangs\": [\n",
      "      \"en\"\n",
      "    ]\n",
      "  }\n",
      "}\n"
     ]
    }
   ],
   "source": [
    "import json\n",
    "\n",
    "count = 0\n",
    "while count < 1:\n",
    "    count += 1\n",
    "    text = input(\"Ingrese un texto para traducir: \")\n",
    "    respuesta = json.dumps(translate(text),ensure_ascii=False, indent = 2)\n",
    "    print(respuesta)"
   ]
  },
  {
   "cell_type": "code",
   "execution_count": 20,
   "id": "a0bb52ad",
   "metadata": {},
   "outputs": [],
   "source": [
    "import json\n",
    "\n",
    "with open(\"wordsList.json\", \"r\") as f:\n",
    "    wordsList = json.loads(f.read())\n",
    "    dicList = list(map(translate, wordsList))\n",
    "\n",
    "dictData = {}\n",
    "for x in dicList:\n",
    "    ID = x['sentences'][0]['orig']\n",
    "    dictData[ID] = x\n",
    "    \n",
    "with open(\"googleDict.json\", \"w\") as outfile:\n",
    "    json.dump(dictData, outfile, ensure_ascii = False)"
   ]
  },
  {
   "cell_type": "code",
   "execution_count": 2,
   "id": "a1941887",
   "metadata": {},
   "outputs": [
    {
     "data": {
      "text/plain": [
       "'34390'"
      ]
     },
     "execution_count": 2,
     "metadata": {},
     "output_type": "execute_result"
    }
   ],
   "source": [
    "import re\n",
    "string = 'lk343 lkj!.9[[-?0'\n",
    "re.sub('\\D','',string)"
   ]
  },
  {
   "cell_type": "code",
   "execution_count": null,
   "id": "5aca501a",
   "metadata": {},
   "outputs": [],
   "source": []
  }
 ],
 "metadata": {
  "interpreter": {
   "hash": "46288a96d9b0371300585bfe55be2ba8c17bcbde38d0bc0b0832f4399a2cf23e"
  },
  "kernelspec": {
   "display_name": "Python 3 (ipykernel)",
   "language": "python",
   "name": "python3"
  },
  "language_info": {
   "codemirror_mode": {
    "name": "ipython",
    "version": 3
   },
   "file_extension": ".py",
   "mimetype": "text/x-python",
   "name": "python",
   "nbconvert_exporter": "python",
   "pygments_lexer": "ipython3",
   "version": "3.8.2"
  }
 },
 "nbformat": 4,
 "nbformat_minor": 5
}
