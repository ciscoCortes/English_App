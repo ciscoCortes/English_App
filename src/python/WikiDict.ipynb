{
 "cells": [
  {
   "cell_type": "code",
   "execution_count": 1,
   "id": "57821919",
   "metadata": {},
   "outputs": [],
   "source": [
    "\n",
    "import re\n",
    "import json\n",
    "from wiktionaryparser import WiktionaryParser\n",
    "parser = WiktionaryParser()"
   ]
  },
  {
   "cell_type": "code",
   "execution_count": 13,
   "id": "e7fbd7b4",
   "metadata": {},
   "outputs": [],
   "source": [
    "def fetch_wiki_word(word):\n",
    "    Dict = {}\n",
    "    try:\n",
    "        response = parser.fetch(word)\n",
    "        \n",
    "        for meaning in response:\n",
    "            # filtering pronunciations.\n",
    "            IPAs = {}\n",
    "            for p in meaning['pronunciations']['text']:\n",
    "                if 'IPA:' in p:\n",
    "                    UK = re.search('England|UK|Received Pronunciation', p)\n",
    "                    US = re.search('US|American|GenAm|enPR', p)\n",
    "                    if US and 'US' not in IPAs:\n",
    "                        IPAs['US'] = re.search('(IPA: )(.*)',p).group(2)\n",
    "                    if UK and 'UK' not in IPAs:\n",
    "                        IPAs['UK'] = re.search('(IPA: )(.*)',p).group(2)\n",
    "                    if re.match('IPA:',p) and 'IPA' not in IPAs: \n",
    "                        IPAs['IPA'] = re.search('(IPA: )(.*)',p).group(2)\n",
    "            if len(IPAs) == 3:\n",
    "                del IPAs['IPA']\n",
    "            if len(IPAs) == 2:\n",
    "                if 'UK' in IPAs and 'US' in IPAs:\n",
    "                    if IPAs['UK'] == IPAs['US']:\n",
    "                        IPAs['IPA'] = IPAs['US']  \n",
    "                        del IPAs['UK'], IPAs['US']\n",
    "                        \n",
    "            for definition in meaning['definitions']:\n",
    "                word_class = definition['partOfSpeech']\n",
    "                def_list = []\n",
    "                count = 0\n",
    "                for df in definition['text']:\n",
    "                    count += 1\n",
    "                    if count == 1:\n",
    "                        morfology = df\n",
    "                        continue\n",
    "                    match = re.search(\"(?:\\(.*)(UK|slang|obsolete|dialectal|Caribbean|MLE)(?:.*\\))\", df)\n",
    "                    if match:\n",
    "                        continue\n",
    "                    match = re.match(\"Dated form\", df)\n",
    "                    if match:\n",
    "                        continue\n",
    "                    def_list.append(df)  \n",
    "                if len(def_list) == 0: \n",
    "                    continue\n",
    "                if len(definition[\"examples\"]) == 0: \n",
    "                    continue\n",
    "                \n",
    "                examples = []\n",
    "                for Eg in definition['examples']:\n",
    "                    if len(Eg) < 150 and not re.match('Audio',Eg) and not re.match(\"Synonym\", Eg):\n",
    "                        examples.append(Eg)\n",
    "                if len(examples) == 0: \n",
    "                    continue\n",
    "                examples.sort(key=lambda x: len(x))\n",
    "                if len(examples) > 10:\n",
    "                    examples = examples[:10]\n",
    "\n",
    "                data = {}    \n",
    "                data['class'] = word_class\n",
    "                data['examples'] = examples\n",
    "                    \n",
    "                if word in Dict:       \n",
    "                    Dict['meanings'].append(data) \n",
    "                else: \n",
    "                    Dict[\"morfology\"] = morfology\n",
    "                    Dict['pronunciation'] = IPAs\n",
    "                    Dict['meanings'] = []\n",
    "                    Dict['meanings'].append(data) \n",
    "    except:\n",
    "        return {}\n",
    "\n",
    "    return Dict"
   ]
  },
  {
   "cell_type": "code",
   "execution_count": null,
   "id": "dda661de",
   "metadata": {},
   "outputs": [],
   "source": [
    "example = fetch_wiki_word('fell')\n",
    "\n",
    "with open(\"wiki_example.json\", 'w') as f:\n",
    "    json.dump(example, f, ensure_ascii = False)"
   ]
  },
  {
   "cell_type": "code",
   "execution_count": 4,
   "id": "fd7a6ba6",
   "metadata": {},
   "outputs": [],
   "source": [
    "import pandas as pd\n",
    "common_words = pd.read_csv('common_words.csv')"
   ]
  },
  {
   "cell_type": "code",
   "execution_count": 5,
   "id": "d7bcd1b2",
   "metadata": {},
   "outputs": [],
   "source": [
    "common_words = common_words[common_words['word'].str.len() > 2]\n",
    "list_of_common = common_words['word'].to_list()"
   ]
  },
  {
   "cell_type": "code",
   "execution_count": 6,
   "id": "47c68206",
   "metadata": {},
   "outputs": [],
   "source": [
    "with open(\"wordsList.json\", 'r') as f:\n",
    "    wordsList = json.loads(f.read())"
   ]
  },
  {
   "cell_type": "code",
   "execution_count": 7,
   "id": "70f1c5f9",
   "metadata": {},
   "outputs": [],
   "source": [
    "new_list = list(set(list_of_common).difference(wordsList))"
   ]
  },
  {
   "cell_type": "code",
   "execution_count": null,
   "id": "2ba0683b",
   "metadata": {},
   "outputs": [],
   "source": [
    "new_dict = {}\n",
    "\n",
    "for word in new_list:\n",
    "    print(word)\n",
    "    new_dict[word] = fetch_wiki_word(word)\n"
   ]
  },
  {
   "cell_type": "code",
   "execution_count": 50,
   "id": "3b0def7d",
   "metadata": {},
   "outputs": [],
   "source": [
    "\n",
    "with open(\"wikiData.json\", 'r') as f:\n",
    "    old_dict = json.loads(f.read())\n",
    "\n",
    "new_dict.update(old_dict)\n",
    "with open(\"wiki_data.json\", 'w') as f:\n",
    "    json.dump(new_dict, f, ensure_ascii = False)"
   ]
  }
 ],
 "metadata": {
  "interpreter": {
   "hash": "46288a96d9b0371300585bfe55be2ba8c17bcbde38d0bc0b0832f4399a2cf23e"
  },
  "kernelspec": {
   "display_name": "Python 3 (ipykernel)",
   "language": "python",
   "name": "python3"
  },
  "language_info": {
   "codemirror_mode": {
    "name": "ipython",
    "version": 3
   },
   "file_extension": ".py",
   "mimetype": "text/x-python",
   "name": "python",
   "nbconvert_exporter": "python",
   "pygments_lexer": "ipython3",
   "version": "3.8.2"
  }
 },
 "nbformat": 4,
 "nbformat_minor": 5
}
