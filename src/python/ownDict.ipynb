{
 "cells": [
  {
   "cell_type": "code",
   "execution_count": 1,
   "metadata": {},
   "outputs": [],
   "source": [
    "import json, re\n",
    "\n",
    "from googleTranslate import translate"
   ]
  },
  {
   "cell_type": "code",
   "execution_count": 2,
   "metadata": {},
   "outputs": [],
   "source": [
    "def transEgs(Eg):\n",
    "    trans = translate(Eg)\n",
    "    if trans != \"Error\":\n",
    "        return trans[\"sentences\"][0][\"trans\"]\n",
    "    else:\n",
    "        print(trans)\n",
    "        return 0\n"
   ]
  },
  {
   "cell_type": "code",
   "execution_count": 3,
   "metadata": {},
   "outputs": [],
   "source": [
    "\n",
    "with open(\"wikiData.json\") as f:\n",
    "    wikiData = json.loads(f.read())\n",
    "\n",
    "with open(\"wiki_data.json\") as f:\n",
    "    wiki_data = json.loads(f.read())\n",
    "\n",
    "word_list = list(set(list(wiki_data.keys())).difference(list(wikiData.keys())))\n"
   ]
  },
  {
   "cell_type": "code",
   "execution_count": null,
   "metadata": {},
   "outputs": [],
   "source": [
    "count = len(word_list) \n",
    "for word in word_list:\n",
    "    print(count, word)\n",
    "    count -= 1\n",
    "    meanings = []\n",
    "    try:\n",
    "        for meaning in wiki_data[word][\"meanings\"]:\n",
    "            meaning[\"ejemplos\"] = list(map(transEgs, meaning[\"examples\"]))\n",
    "            meanings.append(meaning)\n",
    "        wiki_data[word][\"meanings\"] = meanings\n",
    "    except:\n",
    "        continue"
   ]
  },
  {
   "cell_type": "code",
   "execution_count": 6,
   "metadata": {},
   "outputs": [],
   "source": [
    "with open(\"wiki_data_trans.json\", 'w') as f:\n",
    "    json.dump(wiki_data, f, ensure_ascii=False)"
   ]
  },
  {
   "cell_type": "code",
   "execution_count": 4,
   "metadata": {},
   "outputs": [],
   "source": [
    "import json, re\n",
    "with open(\"googleDict.json\", 'r') as googleDict:\n",
    "    googleDict = json.loads(googleDict.read())\n",
    "with open(\"wikiData_trans.json\", 'r') as wikiData:\n",
    "    wikiData = json.loads(wikiData.read())\n",
    "\n",
    "\n",
    "    def delSomeEgs(meaning, translations):\n",
    "        ej_list = meaning[\"ejemplos\"]\n",
    "        eg_list = meaning[\"examples\"]\n",
    "        newEg_list = []\n",
    "        newEj_list = []\n",
    "        trans_terms = []\n",
    "        index = 0\n",
    "        count = 0\n",
    "        used_twice = []\n",
    "        for ejemplo in ej_list:\n",
    "            if count > 4:\n",
    "                break\n",
    "            for trans in translations:\n",
    "                if trans in used_twice:\n",
    "                    continue\n",
    "                if re.search(rf\"\\b{trans}\\b|\\b{trans.capitalize()}\\b\",ejemplo):\n",
    "                    newEg_list.append(eg_list[index])\n",
    "                    newEj_list.append(ejemplo)\n",
    "                    if trans in trans_terms:\n",
    "                        used_twice.append(trans)\n",
    "                    trans_terms.append(trans) \n",
    "                    count += 1\n",
    "                    break\n",
    "            index += 1\n",
    "        meaning[\"examples\"] = newEg_list\n",
    "        meaning[\"ejemplos\"] = newEj_list\n",
    "        meaning[\"trans_terms\"] = trans_terms\n",
    "        return meaning\n",
    "\n",
    "    \n",
    "    classes = {\n",
    "    'article': 'artículo',\n",
    "    'preposition': 'preposición',\n",
    "    'adverb': 'adverbio',\n",
    "    'adjective': 'adjetivo',\n",
    "    'noun': 'sustantivo',\n",
    "    'conjunction': 'conjunción',\n",
    "    'determiner': 'adjetivo',\n",
    "    'pronoun': 'pronombre',\n",
    "    'verb': 'verbo',\n",
    "    'proper noun': 'sustantivo',\n",
    "    'numeral': 'sustantivo'\n",
    "    }\n",
    "\n",
    "    for word in wikiData:\n",
    "        word_meanings = []\n",
    "        for meaning in wikiData[word][\"meanings\"]:\n",
    "            pos = meaning[\"class\"]\n",
    "            if pos == \"interjection\" or pos == \"symbol\":\n",
    "                continue\n",
    "            pos = classes[pos]\n",
    "            if \"dict\" in googleDict[word]:\n",
    "                for entry in googleDict[word][\"dict\"]:\n",
    "                    if entry[\"pos\"] == pos:\n",
    "                        word_meanings.append(delSomeEgs(meaning, entry[\"terms\"]))                     \n",
    "        wikiData[word][\"meanings\"] = word_meanings\n",
    "\n",
    "\n",
    "with open(\"ownDict.json\", \"w\") as f:\n",
    "    json.dump(wikiData, f, ensure_ascii = False)"
   ]
  },
  {
   "cell_type": "code",
   "execution_count": null,
   "metadata": {},
   "outputs": [],
   "source": [
    "\n",
    "# with open(\"wikiData.json\", \"r\") as f:\n",
    "#     wikiData = json.loads(f.read())\n",
    "#     classes = []\n",
    "#     for word in wikiData:\n",
    "#         for meaning in wikiData[word][\"meanings\"]:\n",
    "#             wordClass = meaning[\"class\"]\n",
    "#             if wordClass not in classes:\n",
    "#                 classes.append(wordClass)\n",
    "\n",
    "# print(classes)"
   ]
  },
  {
   "cell_type": "code",
   "execution_count": null,
   "metadata": {},
   "outputs": [],
   "source": [
    "\n",
    "# with open(\"googleDict.json\", \"r\") as f:\n",
    "#     Data = json.loads(f.read())\n",
    "#     classes = []\n",
    "#     for word in Data:\n",
    "#         if \"dict\" in Data[word]:\n",
    "#             for meaning in Data[word][\"dict\"]:\n",
    "#                 wordClass = meaning[\"pos\"]\n",
    "#                 if wordClass not in classes:\n",
    "#                     classes.append(wordClass)\n",
    "\n",
    "# print(classes)"
   ]
  }
 ],
 "metadata": {
  "interpreter": {
   "hash": "46288a96d9b0371300585bfe55be2ba8c17bcbde38d0bc0b0832f4399a2cf23e"
  },
  "kernelspec": {
   "display_name": "Python 3.8.2 ('py3-8')",
   "language": "python",
   "name": "python3"
  },
  "language_info": {
   "codemirror_mode": {
    "name": "ipython",
    "version": 3
   },
   "file_extension": ".py",
   "mimetype": "text/x-python",
   "name": "python",
   "nbconvert_exporter": "python",
   "pygments_lexer": "ipython3",
   "version": "3.8.2"
  },
  "orig_nbformat": 4
 },
 "nbformat": 4,
 "nbformat_minor": 2
}
