{
 "cells": [
  {
   "cell_type": "code",
   "execution_count": null,
   "metadata": {},
   "outputs": [],
   "source": [
    "text = ''''''"
   ]
  },
  {
   "cell_type": "code",
   "execution_count": null,
   "metadata": {},
   "outputs": [],
   "source": [
    "words = []\n",
    "unknown = []\n",
    "with open('wiki_data_trans.json', 'r') as dic_bd:\n",
    "    for w in words:\n",
    "        if w not in dic_bd:\n",
    "            unknown.append(w)"
   ]
  },
  {
   "cell_type": "code",
   "execution_count": null,
   "metadata": {},
   "outputs": [],
   "source": [
    "import json\n",
    "from wikiAPI import wikiAPI\n",
    "new_dict = wikiAPI(unknown)\n",
    "\n",
    "with open(\"wiki_data_trans.json\", 'x') as f:\n",
    "    old_dict = json.loads(f.read())\n",
    "    new_dict.update(old_dict)\n",
    "    json.dump(new_dict, f, ensure_ascii = False)"
   ]
  }
 ],
 "metadata": {
  "kernelspec": {
   "display_name": "Python 3.8.10 64-bit",
   "language": "python",
   "name": "python3"
  },
  "language_info": {
   "name": "python",
   "version": "3.8.10"
  },
  "orig_nbformat": 4,
  "vscode": {
   "interpreter": {
    "hash": "916dbcbb3f70747c44a77c7bcd40155683ae19c65e1c03b4aa3499c5328201f1"
   }
  }
 },
 "nbformat": 4,
 "nbformat_minor": 2
}
