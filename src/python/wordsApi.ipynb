{
 "cells": [
  {
   "cell_type": "code",
   "execution_count": 1,
   "id": "fd6b49bd",
   "metadata": {},
   "outputs": [
    {
     "name": "stdout",
     "output_type": "stream",
     "text": [
      "('{\"word\":\"look\",\"synonyms\":[\"attend\",\"see\",\"take '\n",
      " 'care\",\"feel\",\"feeling\",\"flavor\",\"flavour\",\"smell\",\"spirit\",\"tone\",\"bank\",\"bet\",\"calculate\",\"count\",\"depend\",\"reckon\",\"rely\",\"swear\",\"appear\",\"seem\",\"await\",\"expect\",\"wait\",\"aspect\",\"expression\",\"face\",\"facial '\n",
      " 'expression\",\"front\",\"search\",\"looking\",\"looking at\"]}')\n"
     ]
    }
   ],
   "source": [
    "\n",
    "import requests\n",
    "from pprint import pprint\n",
    "\n",
    "url = \"https://wordsapiv2.p.rapidapi.com/words/look/synonyms\"\n",
    "\n",
    "headers = {\n",
    "\t\"X-RapidAPI-Host\": \"wordsapiv1.p.rapidapi.com\",\n",
    "\t\"X-RapidAPI-Key\": \"661818d89cmsha056a45b15f148ap16a20djsnaeef511a46da\"\n",
    "}\n",
    "\n",
    "response = requests.request(\"GET\", url, headers=headers)\n",
    "\n",
    "pprint(response.text)"
   ]
  },
  {
   "cell_type": "code",
   "execution_count": null,
   "id": "ce6f2e50",
   "metadata": {},
   "outputs": [],
   "source": []
  }
 ],
 "metadata": {
  "kernelspec": {
   "display_name": "Python 3 (ipykernel)",
   "language": "python",
   "name": "python3"
  },
  "language_info": {
   "codemirror_mode": {
    "name": "ipython",
    "version": 3
   },
   "file_extension": ".py",
   "mimetype": "text/x-python",
   "name": "python",
   "nbconvert_exporter": "python",
   "pygments_lexer": "ipython3",
   "version": "3.8.2"
  }
 },
 "nbformat": 4,
 "nbformat_minor": 5
}
